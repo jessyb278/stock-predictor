{
 "cells": [
  {
   "cell_type": "code",
   "execution_count": null,
   "id": "initial_id",
   "metadata": {
    "collapsed": true
   },
   "outputs": [],
   "source": [
    "import yfinance as yf"
   ]
  },
  {
   "cell_type": "code",
   "outputs": [],
   "source": [
    "# Prompt user to input a stock ticker (Yahoo Finance format, e.g. 'AAPL' or 'TSLA'\n",
    "stock = yf.Ticker(input(\"Enter In a Stock using the yahoo name:\"))"
   ],
   "metadata": {
    "collapsed": false
   },
   "id": "fbfd46eb3d577e22",
   "execution_count": null
  },
  {
   "cell_type": "code",
   "outputs": [],
   "source": [
    "# Retrieve full historical data for that stock\n",
    "stock = stock.history(period =\"max\")"
   ],
   "metadata": {
    "collapsed": false
   },
   "id": "bba94d70897184a9",
   "execution_count": null
  },
  {
   "cell_type": "code",
   "outputs": [],
   "source": [
    "# Display full dataset\n",
    "stock"
   ],
   "metadata": {
    "collapsed": false
   },
   "id": "23b255fa56319528",
   "execution_count": null
  },
  {
   "cell_type": "code",
   "outputs": [],
   "source": [
    "# Display the DataFrame index (dates)\n",
    "stock.index"
   ],
   "metadata": {
    "collapsed": false
   },
   "id": "a0242d3915c182af",
   "execution_count": null
  },
  {
   "cell_type": "code",
   "outputs": [],
   "source": [
    "# Plot the closing price of the stock over time\n",
    "stock.plot.line(y =\"Close\", use_index=True)"
   ],
   "metadata": {
    "collapsed": false
   },
   "id": "678b1335795ba914",
   "execution_count": null
  },
  {
   "cell_type": "code",
   "outputs": [],
   "source": [
    "# remove irrelevant columns\n",
    "del stock[\"Dividends\"]\n",
    "del stock[\"Stock Splits\"]"
   ],
   "metadata": {
    "collapsed": false
   },
   "id": "f87bd90fc3103603",
   "execution_count": null
  },
  {
   "cell_type": "code",
   "outputs": [],
   "source": [
    "# Create a \"Tomorrow\" column that shifts the closing price by one day\n",
    "stock[\"Tomorrow\"] = stock[\"Close\"].shift(-1)"
   ],
   "metadata": {
    "collapsed": false
   },
   "id": "e6e334baca9bf7d3",
   "execution_count": null
  },
  {
   "cell_type": "code",
   "outputs": [],
   "source": [
    "# Check updated DataFrame\n",
    "stock"
   ],
   "metadata": {
    "collapsed": false
   },
   "id": "2a85fee5e4be70e1",
   "execution_count": null
  },
  {
   "cell_type": "code",
   "outputs": [],
   "source": [
    "# Creates an \"Actual\" column:\n",
    "# 1 if there's a price increase, else 0\n",
    "stock[\"Actual\"] = (stock[\"Tomorrow\"] > stock[\"Close\"]).astype(int)"
   ],
   "metadata": {
    "collapsed": false
   },
   "id": "1284a7cc709a14e4",
   "execution_count": null
  },
  {
   "cell_type": "markdown",
   "source": [],
   "metadata": {
    "collapsed": false
   },
   "id": "3110478fd1a744e5"
  },
  {
   "cell_type": "code",
   "outputs": [],
   "source": [
    "#limit dataset to start from 1988\n",
    "stock = stock.loc[\"1988-01-01\":].copy()\n",
    "stock"
   ],
   "metadata": {
    "collapsed": false
   },
   "id": "d71d8f1bdccef035",
   "execution_count": null
  },
  {
   "cell_type": "code",
   "outputs": [],
   "source": [
    "\n",
    "from sklearn.ensemble import RandomForestClassifier"
   ],
   "metadata": {
    "collapsed": false
   },
   "id": "d06b1ffd0ca7b097",
   "execution_count": null
  },
  {
   "cell_type": "code",
   "outputs": [],
   "source": [
    "#Initialize Random Forest model\n",
    "model = RandomForestClassifier(n_estimators=200, min_samples_split=25, random_state=1)\n",
    "#split the data into training and testing sets\n",
    "training = stock.iloc[:-100]\n",
    "test = stock.iloc[-100:]\n",
    "\n",
    "# Select feature columns for prediction\n",
    "predictors = [\"Close\", \"Volume\", \"Open\", \"High\" , \"Low\"]\n",
    "#Train model\n",
    "model.fit(training[predictors], training[\"Actual\"])"
   ],
   "metadata": {
    "collapsed": false
   },
   "id": "575d76d8e4c89ab5",
   "execution_count": null
  },
  {
   "cell_type": "code",
   "outputs": [],
   "source": [
    "# import precision metric\n",
    "from sklearn.metrics import precision_score\n",
    "predicts = model.predict(test[predictors])"
   ],
   "metadata": {
    "collapsed": false
   },
   "id": "7c23ea9dfc3ac5ba",
   "execution_count": null
  },
  {
   "cell_type": "code",
   "outputs": [],
   "source": [
    "# convert predictions to a Pandas Series aligned with test index\n",
    "import pandas as pd\n",
    "predicts = pd.Series(predicts, index= test.index)"
   ],
   "metadata": {
    "collapsed": false
   },
   "id": "b5775ec463f89b20",
   "execution_count": null
  },
  {
   "cell_type": "code",
   "outputs": [],
   "source": [
    "# measure precision of predictions\n",
    "precision_score(test[\"Actual\"], predicts)"
   ],
   "metadata": {
    "collapsed": false
   },
   "id": "273df1a9368659b",
   "execution_count": null
  },
  {
   "cell_type": "markdown",
   "source": [],
   "metadata": {
    "collapsed": false
   },
   "id": "74629d8a25caf376"
  },
  {
   "cell_type": "code",
   "outputs": [],
   "source": [
    "# Combine actual vs predict results for visualization\n",
    "combined = pd.concat([test[\"Actual\"], predicts], axis =1)\n",
    "combined.plot()"
   ],
   "metadata": {
    "collapsed": false
   },
   "id": "d5b53a12b8c42de9",
   "execution_count": null
  },
  {
   "cell_type": "code",
   "outputs": [],
   "source": [
    "\n",
    "# Define a helper function to predict and combine results\n",
    "def predict(training, test, predictors, model):\n",
    "    model.fit(training[predictors], training[\"Actual\"])\n",
    "    predicts = model.predict(test[predictors])\n",
    "    predicts = pd.Series(predicts, index = test.index, name =\"Predictions\")\n",
    "    combined = pd.concat([test[\"Actual\"], predicts], axis =1)\n",
    "    return combined"
   ],
   "metadata": {
    "collapsed": false
   },
   "id": "628d28d4ee6ac72d",
   "execution_count": null
  },
  {
   "cell_type": "code",
   "outputs": [],
   "source": [
    "\n",
    "# Define a backtesting function to simulate rolling training and testing\n",
    "def backtest(data, model, predictors, start = 2500, step =250):\n",
    "    all_predictions = []\n",
    "    \n",
    "    for i in range(start, data.shape[0], step):\n",
    "        train = data.iloc[0:i].copy()\n",
    "        test = data.iloc[i:(i+step)].copy()\n",
    "        predictions = predict(train, test, predictors, model)\n",
    "        all_predictions.append(predictions)\n",
    "        \n",
    "    return pd.concat(all_predictions)"
   ],
   "metadata": {
    "collapsed": false
   },
   "id": "975bc5b40ed94157",
   "execution_count": null
  },
  {
   "cell_type": "code",
   "outputs": [],
   "source": [
    "# Running backtest\n",
    "predictions = backtest(stock, model, predictors)"
   ],
   "metadata": {
    "collapsed": false
   },
   "id": "5e47b000d7c5d83a",
   "execution_count": null
  },
  {
   "cell_type": "code",
   "outputs": [],
   "source": [
    "# evaluate class balance and accuracy\n",
    "predictions[\"Predictions\"].value_counts()\n",
    "precision_score(predictions[\"Actual\"], predictions[\"Predictions\"])\n"
   ],
   "metadata": {
    "collapsed": false
   },
   "id": "e11036e691844af",
   "execution_count": null
  },
  {
   "cell_type": "code",
   "outputs": [],
   "source": [
    "# Check overall market trend distribution\n",
    "predictions[\"Actual\"].value_counts() / predictions.shape[0]\n"
   ],
   "metadata": {
    "collapsed": false
   },
   "id": "24aaea8070dd41e7",
   "execution_count": null
  },
  {
   "cell_type": "code",
   "outputs": [],
   "source": [
    "\n",
    "# Create new technical indicators over multiple time horizons \n",
    "newPredictor = []\n",
    "horizons = [2, 5, 20, 60, 250, 1000]\n",
    "for horizon in horizons:\n",
    "    # Rolling mean\n",
    "    average = stock.rolling(horizon).mean()\n",
    "    \n",
    "    # Ration of current price to rolling average\n",
    "    ratioColumn = f\"Close_Ration_{horizon}\"\n",
    "    stock[ratioColumn] = stock[\"Close\"] / average[\"Close\"]\n",
    "    \n",
    "    # Trend: sum of positive days over horizen\n",
    "    trendColumn = f\"Trend_{horizon}\"\n",
    "    stock[trendColumn] = stock.shift(1).rolling(horizon).sum()[\"Actual\"]\n",
    "    \n",
    "    newPredictor += [ratioColumn, trendColumn]\n",
    "    \n",
    "# Drop NaN rows created by rolling calculations \n",
    "stock = stock.dropna()\n"
   ],
   "metadata": {
    "collapsed": false
   },
   "id": "a3cfc1af189ba2b2",
   "execution_count": null
  },
  {
   "cell_type": "code",
   "outputs": [],
   "source": [
    "stock.dropna()"
   ],
   "metadata": {
    "collapsed": false
   },
   "id": "168d6223eb7b9419",
   "execution_count": null
  },
  {
   "cell_type": "code",
   "outputs": [],
   "source": [
    "# Initialize new Random Forest with different parameters\n",
    "model = RandomForestClassifier(n_estimators=200, min_samples_split = 50, random_state=1)"
   ],
   "metadata": {
    "collapsed": false
   },
   "id": "39d3b255352e681d",
   "execution_count": null
  },
  {
   "cell_type": "code",
   "outputs": [],
   "source": [
    "# Define a new prediction function using probability thresholds\n",
    "def predict(train, test, predictors, model):\n",
    "    model.fit(train[predictors], train[\"Actual\"])\n",
    "    predicts = model.predict_proba(test[predictors])[:, 1]\n",
    "    # Convert probabilities into binary outcomes based on confidence\n",
    "    predicts[predicts >= .65] = 1\n",
    "    predicts[predicts < .65] = 0\n",
    "    predicts = pd.Series(predicts, index = test.index, name=\"Predictions\")\n",
    "    combined = pd.concat([test[\"Actual\"], predicts], axis = 1)\n",
    "    return combined"
   ],
   "metadata": {
    "collapsed": false
   },
   "id": "ac7b194b0bbac16",
   "execution_count": null
  },
  {
   "cell_type": "code",
   "outputs": [],
   "source": [
    "# Run backtest again with the new model and predictors\n",
    "predictions = backtest(stock, model, newPredictor)"
   ],
   "metadata": {
    "collapsed": false
   },
   "id": "228cfaaec1aebbef",
   "execution_count": null
  },
  {
   "cell_type": "code",
   "outputs": [],
   "source": [
    "predictions[\"Predictions\"].value_counts() * 100"
   ],
   "metadata": {
    "collapsed": false
   },
   "id": "e11465a331418f45",
   "execution_count": null
  },
  {
   "cell_type": "code",
   "outputs": [],
   "source": [
    "# Display prediction counts and precision\n",
    "predictions[\"Predictions\"].value_counts() * 100\n",
    "precision_score(predictions[\"Actual\"], predictions[\"Predictions\"])"
   ],
   "metadata": {
    "collapsed": false
   },
   "id": "abe63bdd853d8d38",
   "execution_count": null
  },
  {
   "cell_type": "code",
   "outputs": [],
   "source": [],
   "metadata": {
    "collapsed": false
   },
   "id": "87255d11a50cea4d",
   "execution_count": null
  }
 ],
 "metadata": {
  "kernelspec": {
   "display_name": "Python 3",
   "language": "python",
   "name": "python3"
  },
  "language_info": {
   "codemirror_mode": {
    "name": "ipython",
    "version": 2
   },
   "file_extension": ".py",
   "mimetype": "text/x-python",
   "name": "python",
   "nbconvert_exporter": "python",
   "pygments_lexer": "ipython2",
   "version": "2.7.6"
  }
 },
 "nbformat": 4,
 "nbformat_minor": 5
}
